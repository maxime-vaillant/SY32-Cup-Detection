{
 "cells": [
  {
   "cell_type": "code",
   "execution_count": 24,
   "metadata": {
    "collapsed": true
   },
   "outputs": [],
   "source": [
    "from skimage import io\n",
    "from skimage.feature import hog\n",
    "from sklearn.ensemble import RandomForestRegressor\n",
    "from sklearn.model_selection import GridSearchCV, train_test_split\n",
    "from sklearn.svm import SVC, SVR\n",
    "from joblib import dump"
   ]
  },
  {
   "cell_type": "code",
   "execution_count": 25,
   "outputs": [],
   "source": [
    "train_pos = io.imread_collection('train_images/pos/*.jpg')\n",
    "train_neg = io.imread_collection('train_images/neg/*.jpg')"
   ],
   "metadata": {
    "collapsed": false,
    "pycharm": {
     "name": "#%%\n"
    }
   }
  },
  {
   "cell_type": "code",
   "execution_count": 26,
   "outputs": [],
   "source": [
    "X = []\n",
    "y = []\n",
    "\n",
    "for img in train_pos:\n",
    "    X.append(hog(img))\n",
    "    # X.append(hog(img[:, :, 0]).flatten() + hog(img[:, :, 1]).flatten() + hog(img[:, :, 2]).flatten())\n",
    "    y.append(1)\n",
    "\n",
    "for img in train_neg:\n",
    "    X.append(hog(img))\n",
    "    # X.append(hog(img[:, :, 0]).flatten() + hog(img[:, :, 1]).flatten() + hog(img[:, :, 2]).flatten())\n",
    "    y.append(-1)"
   ],
   "metadata": {
    "collapsed": false,
    "pycharm": {
     "name": "#%%\n"
    }
   }
  },
  {
   "cell_type": "code",
   "execution_count": 27,
   "outputs": [],
   "source": [
    "def train_model(classifier, X, y, file_name):\n",
    "    X_train, X_test, y_train, y_test = train_test_split(X, y, train_size=0.90)\n",
    "\n",
    "    print('Beginning training')\n",
    "\n",
    "    classifier.fit(X_train, y_train)\n",
    "\n",
    "    dump(classifier, file_name)\n",
    "\n",
    "    return (1 - classifier.score(X_test, y_test)) * 100\n"
   ],
   "metadata": {
    "collapsed": false,
    "pycharm": {
     "name": "#%%\n"
    }
   }
  },
  {
   "cell_type": "code",
   "execution_count": 28,
   "outputs": [],
   "source": [
    "clf = SVC()\n",
    "# clf = RandomForestRegressor(random_state=1)\n",
    "# clf = SVR()\n",
    "# clf = GridSearchCV(SVC(), {'kernel':('linear', 'rbf'), 'C':[1, 10]})"
   ],
   "metadata": {
    "collapsed": false,
    "pycharm": {
     "name": "#%%\n"
    }
   }
  },
  {
   "cell_type": "code",
   "execution_count": null,
   "outputs": [
    {
     "name": "stdout",
     "output_type": "stream",
     "text": [
      "Beginning training\n"
     ]
    }
   ],
   "source": [
    "clf_error = train_model(clf, X, y, 'models/SVC_model_400_400_grey.joblib')\n",
    "clf_error"
   ],
   "metadata": {
    "collapsed": false,
    "pycharm": {
     "name": "#%%\n",
     "is_executing": true
    }
   }
  }
 ],
 "metadata": {
  "kernelspec": {
   "display_name": "Python 3",
   "language": "python",
   "name": "python3"
  },
  "language_info": {
   "codemirror_mode": {
    "name": "ipython",
    "version": 2
   },
   "file_extension": ".py",
   "mimetype": "text/x-python",
   "name": "python",
   "nbconvert_exporter": "python",
   "pygments_lexer": "ipython2",
   "version": "2.7.6"
  }
 },
 "nbformat": 4,
 "nbformat_minor": 0
}