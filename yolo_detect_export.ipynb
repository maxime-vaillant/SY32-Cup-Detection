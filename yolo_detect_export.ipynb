{
 "cells": [
  {
   "cell_type": "code",
   "execution_count": 39,
   "metadata": {
    "collapsed": true
   },
   "outputs": [],
   "source": [
    "from utils import generate_csv_from_label_list\n",
    "import os"
   ]
  },
  {
   "cell_type": "code",
   "execution_count": 58,
   "outputs": [],
   "source": [
    "# PARAMÉTRAGE\n",
    "\n",
    "model_name = 'yolov5l_640i_150e'\n",
    "source = 'dataset/test'\n",
    "conf_thres = 0.85\n",
    "project_path = 'runs/detect'"
   ],
   "metadata": {
    "collapsed": false,
    "pycharm": {
     "name": "#%%\n"
    }
   }
  },
  {
   "cell_type": "code",
   "execution_count": null,
   "outputs": [],
   "source": [
    "weights = 'yolo_models/{}.pt'.format(model_name)\n",
    "bash_option = '--weights {} --source {} --conf-thres {} --project {} --save-txt --save-conf'.format(\n",
    "    weights,\n",
    "    source,\n",
    "    conf_thres,\n",
    "    project_path\n",
    ")"
   ],
   "metadata": {
    "collapsed": false,
    "pycharm": {
     "name": "#%%\n"
    }
   }
  },
  {
   "cell_type": "code",
   "execution_count": 57,
   "outputs": [
    {
     "name": "stdout",
     "output_type": "stream",
     "text": [
      "\u001B[34m\u001B[1mdetect: \u001B[0mweights=['yolo_models/yolov5l_640i_150e.pt'], source=images/val, data=yolov5/data/coco128.yaml, imgsz=[640, 640], conf_thres=0.85, iou_thres=0.45, max_det=1000, device=, view_img=False, save_txt=True, save_conf=True, save_crop=False, nosave=False, classes=None, agnostic_nms=False, augment=False, visualize=False, update=False, project=runs/detect, name=exp, exist_ok=False, line_thickness=3, hide_labels=False, hide_conf=False, half=False, dnn=False\r\n",
      "fatal: cannot change to '/Users/maximevaillant/Desktop/GI/GI04/SY32/Projet': No such file or directory\r\n",
      "YOLOv5 🚀 2022-6-9 Python-3.9.0 torch-1.11.0 CPU\r\n",
      "\r\n",
      "Fusing layers... \r\n",
      "Model summary: 367 layers, 46108278 parameters, 0 gradients, 107.8 GFLOPs\r\n",
      "image 1/101 /Users/maximevaillant/Desktop/GI/GI04/SY32/Projet Ecocup/images/val/abafadil_neg_009.jpg: 640x480 Done. (2.169s)\r\n",
      "image 2/101 /Users/maximevaillant/Desktop/GI/GI04/SY32/Projet Ecocup/images/val/abafadil_neg_012.jpg: 640x480 Done. (1.976s)\r\n",
      "image 3/101 /Users/maximevaillant/Desktop/GI/GI04/SY32/Projet Ecocup/images/val/abafadil_neg_014.jpg: 640x480 Done. (2.187s)\r\n",
      "^C\r\n",
      "Traceback (most recent call last):\r\n",
      "  File \"/Users/maximevaillant/Desktop/GI/GI04/SY32/Projet Ecocup/yolov5/detect.py\", line 252, in <module>\r\n",
      "    main(opt)\r\n",
      "  File \"/Users/maximevaillant/Desktop/GI/GI04/SY32/Projet Ecocup/yolov5/detect.py\", line 247, in main\r\n",
      "    run(**vars(opt))\r\n",
      "  File \"/Library/Frameworks/Python.framework/Versions/3.9/lib/python3.9/site-packages/torch/autograd/grad_mode.py\", line 27, in decorate_context\r\n",
      "    return func(*args, **kwargs)\r\n",
      "  File \"/Users/maximevaillant/Desktop/GI/GI04/SY32/Projet Ecocup/yolov5/detect.py\", line 122, in run\r\n",
      "    pred = model(im, augment=augment, visualize=visualize)\r\n",
      "  File \"/Library/Frameworks/Python.framework/Versions/3.9/lib/python3.9/site-packages/torch/nn/modules/module.py\", line 1110, in _call_impl\r\n",
      "    return forward_call(*input, **kwargs)\r\n",
      "  File \"/Users/maximevaillant/Desktop/GI/GI04/SY32/Projet Ecocup/yolov5/models/common.py\", line 445, in forward\r\n",
      "    y = self.model(im, augment=augment, visualize=visualize)[0]\r\n",
      "  File \"/Library/Frameworks/Python.framework/Versions/3.9/lib/python3.9/site-packages/torch/nn/modules/module.py\", line 1110, in _call_impl\r\n",
      "    return forward_call(*input, **kwargs)\r\n",
      "  File \"/Users/maximevaillant/Desktop/GI/GI04/SY32/Projet Ecocup/yolov5/models/yolo.py\", line 135, in forward\r\n",
      "    return self._forward_once(x, profile, visualize)  # single-scale inference, train\r\n",
      "  File \"/Users/maximevaillant/Desktop/GI/GI04/SY32/Projet Ecocup/yolov5/models/yolo.py\", line 158, in _forward_once\r\n",
      "    x = m(x)  # run\r\n",
      "  File \"/Library/Frameworks/Python.framework/Versions/3.9/lib/python3.9/site-packages/torch/nn/modules/module.py\", line 1110, in _call_impl\r\n",
      "    return forward_call(*input, **kwargs)\r\n",
      "  File \"/Users/maximevaillant/Desktop/GI/GI04/SY32/Projet Ecocup/yolov5/models/common.py\", line 50, in forward_fuse\r\n",
      "    return self.act(self.conv(x))\r\n",
      "  File \"/Library/Frameworks/Python.framework/Versions/3.9/lib/python3.9/site-packages/torch/nn/modules/module.py\", line 1110, in _call_impl\r\n",
      "    return forward_call(*input, **kwargs)\r\n",
      "  File \"/Library/Frameworks/Python.framework/Versions/3.9/lib/python3.9/site-packages/torch/nn/modules/conv.py\", line 447, in forward\r\n",
      "    return self._conv_forward(input, self.weight, self.bias)\r\n",
      "  File \"/Library/Frameworks/Python.framework/Versions/3.9/lib/python3.9/site-packages/torch/nn/modules/conv.py\", line 443, in _conv_forward\r\n",
      "    return F.conv2d(input, weight, bias, self.stride,\r\n",
      "KeyboardInterrupt\r\n"
     ]
    }
   ],
   "source": [
    "!python3 yolov5/detect.py {bash_option}"
   ],
   "metadata": {
    "collapsed": false,
    "pycharm": {
     "name": "#%%\n"
    }
   }
  },
  {
   "cell_type": "code",
   "execution_count": null,
   "outputs": [],
   "source": [
    "exp_path = sorted(os.listdir(project_path))[-1]\n",
    "\n",
    "img_path = os.path.join(project_path, exp_path)\n",
    "label_path = os.path.join(project_path, exp_path, 'labels')\n",
    "save_path = os.path.join(project_path, exp_path, '_detection_{}.csv'.format(model_name))\n",
    "\n",
    "generate_csv_from_label_list(label_path, img_path, save_path)"
   ],
   "metadata": {
    "collapsed": false,
    "pycharm": {
     "name": "#%%\n",
     "is_executing": true
    }
   }
  }
 ],
 "metadata": {
  "kernelspec": {
   "display_name": "Python 3",
   "language": "python",
   "name": "python3"
  },
  "language_info": {
   "codemirror_mode": {
    "name": "ipython",
    "version": 2
   },
   "file_extension": ".py",
   "mimetype": "text/x-python",
   "name": "python",
   "nbconvert_exporter": "python",
   "pygments_lexer": "ipython2",
   "version": "2.7.6"
  }
 },
 "nbformat": 4,
 "nbformat_minor": 0
}