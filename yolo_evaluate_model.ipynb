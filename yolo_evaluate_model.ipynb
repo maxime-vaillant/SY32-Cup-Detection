{
 "cells": [
  {
   "cell_type": "code",
   "execution_count": 50,
   "metadata": {
    "collapsed": true
   },
   "outputs": [],
   "source": [
    "from utils import generate_csv_from_label_list, get_metrics\n",
    "import os"
   ]
  },
  {
   "cell_type": "code",
   "execution_count": 52,
   "outputs": [],
   "source": [
    "# PARAMÉTRAGE\n",
    "\n",
    "val_img_path = 'images/val'\n",
    "val_label_path = 'labels/val'\n",
    "save_val_file = os.path.join(val_img_path, '_val.csv')\n",
    "\n",
    "model_name = 'yolov5m_640i_300e'\n",
    "conf_thres = 0.85\n",
    "project_path = 'runs/detect'"
   ],
   "metadata": {
    "collapsed": false,
    "pycharm": {
     "name": "#%%\n"
    }
   }
  },
  {
   "cell_type": "code",
   "execution_count": null,
   "outputs": [],
   "source": [
    "weights = 'yolo_models/{}.pt'.format(model_name)\n",
    "bash_option = '--weights {} --source {} --conf-thres {} --project {} --save-txt --save-conf'.format(\n",
    "    weights,\n",
    "    val_img_path,\n",
    "    conf_thres,\n",
    "    project_path\n",
    ")"
   ],
   "metadata": {
    "collapsed": false,
    "pycharm": {
     "name": "#%%\n"
    }
   }
  },
  {
   "cell_type": "code",
   "execution_count": 53,
   "outputs": [
    {
     "name": "stdout",
     "output_type": "stream",
     "text": [
      "\u001B[34m\u001B[1mdetect: \u001B[0mweights=['yolo_models/yolov5m_640i_300e.pt'], source=images/val, data=yolov5/data/coco128.yaml, imgsz=[640, 640], conf_thres=0.85, iou_thres=0.45, max_det=1000, device=, view_img=False, save_txt=True, save_conf=True, save_crop=False, nosave=False, classes=None, agnostic_nms=False, augment=False, visualize=False, update=False, project=runs/detect, name=exp, exist_ok=False, line_thickness=3, hide_labels=False, hide_conf=False, half=False, dnn=False\r\n",
      "fatal: cannot change to '/Users/maximevaillant/Desktop/GI/GI04/SY32/Projet': No such file or directory\r\n",
      "YOLOv5 🚀 2022-6-9 Python-3.9.0 torch-1.11.0 CPU\r\n",
      "\r\n",
      "Fusing layers... \r\n",
      "Model summary: 290 layers, 20852934 parameters, 0 gradients, 47.9 GFLOPs\r\n",
      "image 1/101 /Users/maximevaillant/Desktop/GI/GI04/SY32/Projet Ecocup/images/val/abafadil_neg_009.jpg: 640x480 Done. (1.429s)\r\n",
      "image 2/101 /Users/maximevaillant/Desktop/GI/GI04/SY32/Projet Ecocup/images/val/abafadil_neg_012.jpg: 640x480 Done. (1.334s)\r\n",
      "image 3/101 /Users/maximevaillant/Desktop/GI/GI04/SY32/Projet Ecocup/images/val/abafadil_neg_014.jpg: 640x480 Done. (1.052s)\r\n",
      "image 4/101 /Users/maximevaillant/Desktop/GI/GI04/SY32/Projet Ecocup/images/val/abafadil_neg_015.jpg: 640x480 Done. (0.921s)\r\n",
      "image 5/101 /Users/maximevaillant/Desktop/GI/GI04/SY32/Projet Ecocup/images/val/amagnero_neg_001.jpg: 480x640 Done. (0.965s)\r\n",
      "image 6/101 /Users/maximevaillant/Desktop/GI/GI04/SY32/Projet Ecocup/images/val/amagnero_neg_002.jpg: 480x640 Done. (0.882s)\r\n",
      "image 7/101 /Users/maximevaillant/Desktop/GI/GI04/SY32/Projet Ecocup/images/val/amagnero_pos_001.jpg: 480x640 1 ecocup, Done. (0.967s)\r\n",
      "image 8/101 /Users/maximevaillant/Desktop/GI/GI04/SY32/Projet Ecocup/images/val/amiotnoe_neg_001.jpg: 384x640 Done. (0.740s)\r\n",
      "image 9/101 /Users/maximevaillant/Desktop/GI/GI04/SY32/Projet Ecocup/images/val/andrerom_neg_002.jpg: 480x640 Done. (0.874s)\r\n",
      "image 10/101 /Users/maximevaillant/Desktop/GI/GI04/SY32/Projet Ecocup/images/val/aribault_pos_006.jpg: 480x640 5 ecocups, Done. (0.905s)\r\n",
      "image 11/101 /Users/maximevaillant/Desktop/GI/GI04/SY32/Projet Ecocup/images/val/aribault_pos_007.jpg: 640x480 1 ecocup, Done. (0.908s)\r\n",
      "image 12/101 /Users/maximevaillant/Desktop/GI/GI04/SY32/Projet Ecocup/images/val/aschulst_neg_004.jpg: 640x480 Done. (0.907s)\r\n",
      "image 13/101 /Users/maximevaillant/Desktop/GI/GI04/SY32/Projet Ecocup/images/val/aschulst_pos_006.jpg: 480x640 2 ecocups, Done. (0.893s)\r\n",
      "image 14/101 /Users/maximevaillant/Desktop/GI/GI04/SY32/Projet Ecocup/images/val/aschulst_pos_009.jpg: 640x480 1 ecocup, Done. (0.912s)\r\n",
      "image 15/101 /Users/maximevaillant/Desktop/GI/GI04/SY32/Projet Ecocup/images/val/bettonyo_pos_009.jpg: 480x640 1 ecocup, Done. (0.929s)\r\n",
      "image 16/101 /Users/maximevaillant/Desktop/GI/GI04/SY32/Projet Ecocup/images/val/bettonyo_pos_012.jpg: 480x640 2 ecocups, Done. (0.940s)\r\n",
      "image 17/101 /Users/maximevaillant/Desktop/GI/GI04/SY32/Projet Ecocup/images/val/bmissaou_pos_001.jpg: 640x480 1 ecocup, Done. (0.909s)\r\n",
      "image 18/101 /Users/maximevaillant/Desktop/GI/GI04/SY32/Projet Ecocup/images/val/bordesth_neg_008.jpg: 480x640 Done. (0.880s)\r\n",
      "image 19/101 /Users/maximevaillant/Desktop/GI/GI04/SY32/Projet Ecocup/images/val/bordesth_pos_009.jpg: 480x640 2 ecocups, Done. (0.956s)\r\n",
      "image 20/101 /Users/maximevaillant/Desktop/GI/GI04/SY32/Projet Ecocup/images/val/bourimer_neg_002.jpg: 640x480 Done. (0.955s)\r\n",
      "image 21/101 /Users/maximevaillant/Desktop/GI/GI04/SY32/Projet Ecocup/images/val/cebertra_pos_008.jpg: 640x480 Done. (0.916s)\r\n",
      "image 22/101 /Users/maximevaillant/Desktop/GI/GI04/SY32/Projet Ecocup/images/val/eurinadr_neg_001.jpg: 640x480 Done. (0.902s)\r\n",
      "image 23/101 /Users/maximevaillant/Desktop/GI/GI04/SY32/Projet Ecocup/images/val/eurinadr_neg_005.jpg: 640x480 Done. (0.893s)\r\n",
      "image 24/101 /Users/maximevaillant/Desktop/GI/GI04/SY32/Projet Ecocup/images/val/gralljea_pos_011.jpg: 640x480 1 ecocup, Done. (0.905s)\r\n",
      "image 25/101 /Users/maximevaillant/Desktop/GI/GI04/SY32/Projet Ecocup/images/val/grallthi_neg_005.jpg: 640x480 Done. (0.962s)\r\n",
      "image 26/101 /Users/maximevaillant/Desktop/GI/GI04/SY32/Projet Ecocup/images/val/grallthi_pos_010.jpg: 640x480 1 ecocup, Done. (1.028s)\r\n",
      "image 27/101 /Users/maximevaillant/Desktop/GI/GI04/SY32/Projet Ecocup/images/val/guozihen_neg_001.jpg: 480x640 Done. (1.142s)\r\n",
      "image 28/101 /Users/maximevaillant/Desktop/GI/GI04/SY32/Projet Ecocup/images/val/guozihen_neg_008.jpg: 640x480 Done. (1.056s)\r\n",
      "image 29/101 /Users/maximevaillant/Desktop/GI/GI04/SY32/Projet Ecocup/images/val/guozihen_neg_011.jpg: 480x640 Done. (0.896s)\r\n",
      "image 30/101 /Users/maximevaillant/Desktop/GI/GI04/SY32/Projet Ecocup/images/val/honhuhoa_neg_009.jpg: 640x480 Done. (0.922s)\r\n",
      "image 31/101 /Users/maximevaillant/Desktop/GI/GI04/SY32/Projet Ecocup/images/val/huarderi_pos_003.jpg: 640x480 1 ecocup, Done. (0.880s)\r\n",
      "image 32/101 /Users/maximevaillant/Desktop/GI/GI04/SY32/Projet Ecocup/images/val/huarderi_pos_010.jpg: 640x480 3 ecocups, Done. (0.889s)\r\n",
      "image 33/101 /Users/maximevaillant/Desktop/GI/GI04/SY32/Projet Ecocup/images/val/irmouque_pos_004.jpg: 640x480 1 ecocup, Done. (0.947s)\r\n",
      "image 34/101 /Users/maximevaillant/Desktop/GI/GI04/SY32/Projet Ecocup/images/val/irmouque_pos_005.jpg: 640x480 1 ecocup, Done. (0.873s)\r\n",
      "image 35/101 /Users/maximevaillant/Desktop/GI/GI04/SY32/Projet Ecocup/images/val/jchabbal_pos_010.jpg: 480x640 Done. (0.903s)\r\n",
      "image 36/101 /Users/maximevaillant/Desktop/GI/GI04/SY32/Projet Ecocup/images/val/laveauan_neg_003.jpg: 384x640 Done. (0.734s)\r\n",
      "image 37/101 /Users/maximevaillant/Desktop/GI/GI04/SY32/Projet Ecocup/images/val/laveauan_neg_005.jpg: 384x640 Done. (0.695s)\r\n",
      "image 38/101 /Users/maximevaillant/Desktop/GI/GI04/SY32/Projet Ecocup/images/val/laveauan_pos_004.jpg: 384x640 2 ecocups, Done. (0.726s)\r\n",
      "image 39/101 /Users/maximevaillant/Desktop/GI/GI04/SY32/Projet Ecocup/images/val/laveauan_pos_009.jpg: 384x640 Done. (0.718s)\r\n",
      "image 40/101 /Users/maximevaillant/Desktop/GI/GI04/SY32/Projet Ecocup/images/val/lepagesi_neg_002.jpg: 640x640 Done. (1.203s)\r\n",
      "image 41/101 /Users/maximevaillant/Desktop/GI/GI04/SY32/Projet Ecocup/images/val/lepagesi_neg_012.jpg: 640x640 Done. (1.184s)\r\n",
      "image 42/101 /Users/maximevaillant/Desktop/GI/GI04/SY32/Projet Ecocup/images/val/lepagesi_pos_008.jpg: 640x640 3 ecocups, Done. (1.262s)\r\n",
      "image 43/101 /Users/maximevaillant/Desktop/GI/GI04/SY32/Projet Ecocup/images/val/lepagesi_pos_010.jpg: 640x640 8 ecocups, Done. (1.228s)\r\n",
      "image 44/101 /Users/maximevaillant/Desktop/GI/GI04/SY32/Projet Ecocup/images/val/lepagesi_pos_013.jpg: 640x640 3 ecocups, Done. (1.216s)\r\n",
      "image 45/101 /Users/maximevaillant/Desktop/GI/GI04/SY32/Projet Ecocup/images/val/lepagesi_pos_023.jpg: 640x640 2 ecocups, Done. (1.211s)\r\n",
      "image 46/101 /Users/maximevaillant/Desktop/GI/GI04/SY32/Projet Ecocup/images/val/ljeannea_pos_001.jpg: 640x640 2 ecocups, Done. (1.186s)\r\n",
      "image 47/101 /Users/maximevaillant/Desktop/GI/GI04/SY32/Projet Ecocup/images/val/maresfra_neg_001.jpg: 480x640 Done. (0.888s)\r\n",
      "image 48/101 /Users/maximevaillant/Desktop/GI/GI04/SY32/Projet Ecocup/images/val/maresfra_neg_011.jpg: 480x640 Done. (0.890s)\r\n",
      "image 49/101 /Users/maximevaillant/Desktop/GI/GI04/SY32/Projet Ecocup/images/val/maresfra_pos_020.jpg: 480x640 6 ecocups, Done. (0.897s)\r\n",
      "image 50/101 /Users/maximevaillant/Desktop/GI/GI04/SY32/Projet Ecocup/images/val/martinhu_pos_011.jpg: 640x384 1 ecocup, Done. (0.763s)\r\n",
      "image 51/101 /Users/maximevaillant/Desktop/GI/GI04/SY32/Projet Ecocup/images/val/maurinde_pos_006.jpg: 640x480 1 ecocup, Done. (0.962s)\r\n",
      "image 52/101 /Users/maximevaillant/Desktop/GI/GI04/SY32/Projet Ecocup/images/val/maurinde_pos_009.jpg: 480x640 1 ecocup, Done. (0.919s)\r\n",
      "image 53/101 /Users/maximevaillant/Desktop/GI/GI04/SY32/Projet Ecocup/images/val/maurinde_pos_010.jpg: 480x640 1 ecocup, Done. (0.928s)\r\n",
      "image 54/101 /Users/maximevaillant/Desktop/GI/GI04/SY32/Projet Ecocup/images/val/maxvaill_neg_014.jpg: 480x640 Done. (0.891s)\r\n",
      "image 55/101 /Users/maximevaillant/Desktop/GI/GI04/SY32/Projet Ecocup/images/val/maxvaill_neg_017.jpg: 480x640 Done. (1.084s)\r\n",
      "image 56/101 /Users/maximevaillant/Desktop/GI/GI04/SY32/Projet Ecocup/images/val/maxvaill_pos_010.jpg: 640x480 1 ecocup, Done. (1.234s)\r\n",
      "image 57/101 /Users/maximevaillant/Desktop/GI/GI04/SY32/Projet Ecocup/images/val/mdelcroi_neg_005.jpg: 640x480 Done. (1.065s)\r\n",
      "image 58/101 /Users/maximevaillant/Desktop/GI/GI04/SY32/Projet Ecocup/images/val/mdelcroi_pos_004.jpg: 640x480 1 ecocup, Done. (0.953s)\r\n",
      "image 59/101 /Users/maximevaillant/Desktop/GI/GI04/SY32/Projet Ecocup/images/val/mdelcroi_pos_010.jpg: 640x480 2 ecocups, Done. (0.916s)\r\n",
      "image 60/101 /Users/maximevaillant/Desktop/GI/GI04/SY32/Projet Ecocup/images/val/meyerflo_pos_004.jpg: 480x640 1 ecocup, Done. (0.937s)\r\n",
      "image 61/101 /Users/maximevaillant/Desktop/GI/GI04/SY32/Projet Ecocup/images/val/meyerflo_pos_009.jpg: 480x640 1 ecocup, Done. (0.946s)\r\n",
      "image 62/101 /Users/maximevaillant/Desktop/GI/GI04/SY32/Projet Ecocup/images/val/mparache_neg_001.jpg: 640x480 Done. (0.945s)\r\n",
      "image 63/101 /Users/maximevaillant/Desktop/GI/GI04/SY32/Projet Ecocup/images/val/mparache_pos_008.jpg: 640x480 Done. (0.939s)\r\n",
      "image 64/101 /Users/maximevaillant/Desktop/GI/GI04/SY32/Projet Ecocup/images/val/msarehan_neg_004.jpg: 480x640 Done. (0.972s)\r\n",
      "image 65/101 /Users/maximevaillant/Desktop/GI/GI04/SY32/Projet Ecocup/images/val/msarehan_pos_007.jpg: 480x640 2 ecocups, Done. (1.006s)\r\n",
      "image 66/101 /Users/maximevaillant/Desktop/GI/GI04/SY32/Projet Ecocup/images/val/msarehan_pos_012.jpg: 480x640 1 ecocup, Done. (0.993s)\r\n",
      "image 67/101 /Users/maximevaillant/Desktop/GI/GI04/SY32/Projet Ecocup/images/val/ngthithu_neg_001.jpg: 480x640 Done. (0.989s)\r\n",
      "image 68/101 /Users/maximevaillant/Desktop/GI/GI04/SY32/Projet Ecocup/images/val/ngthithu_neg_005.jpg: 480x640 Done. (0.935s)\r\n",
      "image 69/101 /Users/maximevaillant/Desktop/GI/GI04/SY32/Projet Ecocup/images/val/ngthithu_pos_005.jpg: 448x640 1 ecocup, Done. (0.921s)\r\n",
      "image 70/101 /Users/maximevaillant/Desktop/GI/GI04/SY32/Projet Ecocup/images/val/nivoixpa_neg_008.jpg: 640x480 Done. (0.946s)\r\n",
      "image 71/101 /Users/maximevaillant/Desktop/GI/GI04/SY32/Projet Ecocup/images/val/nivoixpa_neg_014.jpg: 640x480 Done. (0.946s)\r\n",
      "image 72/101 /Users/maximevaillant/Desktop/GI/GI04/SY32/Projet Ecocup/images/val/olahnech_neg_002.jpg: 640x480 Done. (0.994s)\r\n",
      "image 73/101 /Users/maximevaillant/Desktop/GI/GI04/SY32/Projet Ecocup/images/val/olahnech_pos_003.jpg: 640x480 1 ecocup, Done. (0.940s)\r\n",
      "image 74/101 /Users/maximevaillant/Desktop/GI/GI04/SY32/Projet Ecocup/images/val/olahnech_pos_004.jpg: 640x480 1 ecocup, Done. (0.960s)\r\n",
      "image 75/101 /Users/maximevaillant/Desktop/GI/GI04/SY32/Projet Ecocup/images/val/olahnech_pos_006.jpg: 640x480 1 ecocup, Done. (0.955s)\r\n",
      "image 76/101 /Users/maximevaillant/Desktop/GI/GI04/SY32/Projet Ecocup/images/val/operezal_pos_010.jpg: 640x480 2 ecocups, Done. (0.948s)\r\n",
      "image 77/101 /Users/maximevaillant/Desktop/GI/GI04/SY32/Projet Ecocup/images/val/pointaug_pos_003.jpg: 640x480 1 ecocup, Done. (0.941s)\r\n",
      "image 78/101 /Users/maximevaillant/Desktop/GI/GI04/SY32/Projet Ecocup/images/val/saidmoha_pos_007.jpg: 640x480 1 ecocup, Done. (0.960s)\r\n",
      "image 79/101 /Users/maximevaillant/Desktop/GI/GI04/SY32/Projet Ecocup/images/val/sbenarro_neg_002.jpg: 640x480 Done. (0.944s)\r\n",
      "image 80/101 /Users/maximevaillant/Desktop/GI/GI04/SY32/Projet Ecocup/images/val/sbenarro_pos_003.jpg: 640x480 4 ecocups, Done. (0.954s)\r\n",
      "image 81/101 /Users/maximevaillant/Desktop/GI/GI04/SY32/Projet Ecocup/images/val/sbenarro_pos_010.jpg: 640x480 1 ecocup, Done. (0.954s)\r\n",
      "image 82/101 /Users/maximevaillant/Desktop/GI/GI04/SY32/Projet Ecocup/images/val/smakhlou_neg_002.jpg: 640x480 Done. (0.963s)\r\n",
      "image 83/101 /Users/maximevaillant/Desktop/GI/GI04/SY32/Projet Ecocup/images/val/smakhlou_neg_005.jpg: 640x480 Done. (2.555s)\r\n",
      "image 84/101 /Users/maximevaillant/Desktop/GI/GI04/SY32/Projet Ecocup/images/val/smakhlou_pos_006.jpg: 480x640 1 ecocup, Done. (4.673s)\r\n",
      "image 85/101 /Users/maximevaillant/Desktop/GI/GI04/SY32/Projet Ecocup/images/val/taupincl_pos_009.jpg: 640x480 1 ecocup, Done. (2.450s)\r\n",
      "image 86/101 /Users/maximevaillant/Desktop/GI/GI04/SY32/Projet Ecocup/images/val/tlavisse_neg_002.jpg: 480x640 Done. (2.212s)\r\n",
      "image 87/101 /Users/maximevaillant/Desktop/GI/GI04/SY32/Projet Ecocup/images/val/toczekor_pos_008.jpg: 640x480 2 ecocups, Done. (2.140s)\r\n",
      "image 88/101 /Users/maximevaillant/Desktop/GI/GI04/SY32/Projet Ecocup/images/val/traquoch_pos_006.jpg: 640x320 1 ecocup, Done. (1.234s)\r\n",
      "image 89/101 /Users/maximevaillant/Desktop/GI/GI04/SY32/Projet Ecocup/images/val/vbrebion_neg_001.jpg: 480x640 Done. (1.174s)\r\n",
      "image 90/101 /Users/maximevaillant/Desktop/GI/GI04/SY32/Projet Ecocup/images/val/vbrebion_neg_007.jpg: 480x640 Done. (1.377s)\r\n",
      "image 91/101 /Users/maximevaillant/Desktop/GI/GI04/SY32/Projet Ecocup/images/val/vbrebion_pos_001.jpg: 480x640 1 ecocup, Done. (1.425s)\r\n",
      "image 92/101 /Users/maximevaillant/Desktop/GI/GI04/SY32/Projet Ecocup/images/val/vivatben_neg_002.jpg: 640x480 Done. (1.392s)\r\n",
      "image 93/101 /Users/maximevaillant/Desktop/GI/GI04/SY32/Projet Ecocup/images/val/vivatben_pos_006.jpg: 640x480 Done. (1.307s)\r\n",
      "image 94/101 /Users/maximevaillant/Desktop/GI/GI04/SY32/Projet Ecocup/images/val/vivatben_pos_010.jpg: 640x480 3 ecocups, Done. (1.065s)\r\n",
      "image 95/101 /Users/maximevaillant/Desktop/GI/GI04/SY32/Projet Ecocup/images/val/wahartlo_neg_003.jpg: 640x480 Done. (1.106s)\r\n",
      "image 96/101 /Users/maximevaillant/Desktop/GI/GI04/SY32/Projet Ecocup/images/val/wangruim_neg_002.jpg: 640x480 Done. (1.113s)\r\n",
      "image 97/101 /Users/maximevaillant/Desktop/GI/GI04/SY32/Projet Ecocup/images/val/wangruim_neg_007.jpg: 640x480 Done. (1.152s)\r\n",
      "image 98/101 /Users/maximevaillant/Desktop/GI/GI04/SY32/Projet Ecocup/images/val/zitolilo_neg_001.jpg: 640x480 Done. (1.045s)\r\n",
      "image 99/101 /Users/maximevaillant/Desktop/GI/GI04/SY32/Projet Ecocup/images/val/zitolilo_pos_001.jpg: 640x480 1 ecocup, Done. (1.217s)\r\n",
      "image 100/101 /Users/maximevaillant/Desktop/GI/GI04/SY32/Projet Ecocup/images/val/zitolilo_pos_003.jpg: 480x640 2 ecocups, Done. (1.053s)\r\n",
      "image 101/101 /Users/maximevaillant/Desktop/GI/GI04/SY32/Projet Ecocup/images/val/zitolilo_pos_006.jpg: 640x480 1 ecocup, Done. (1.061s)\r\n",
      "Speed: 1.4ms pre-process, 1087.7ms inference, 1.1ms NMS per image at shape (1, 3, 640, 640)\r\n",
      "Results saved to \u001B[1mruns/detect/exp4\u001B[0m\r\n",
      "51 labels saved to runs/detect/exp4/labels\r\n"
     ]
    }
   ],
   "source": [
    "!python3 yolov5/detect.py {bash_option}"
   ],
   "metadata": {
    "collapsed": false,
    "pycharm": {
     "name": "#%%\n"
    }
   }
  },
  {
   "cell_type": "code",
   "execution_count": 54,
   "outputs": [],
   "source": [
    "if not os.path.exists(save_val_file):\n",
    "    generate_csv_from_label_list(val_label_path, val_img_path, save_val_file, is_not_scored=True)"
   ],
   "metadata": {
    "collapsed": false,
    "pycharm": {
     "name": "#%%\n"
    }
   }
  },
  {
   "cell_type": "code",
   "execution_count": 55,
   "outputs": [
    {
     "data": {
      "text/plain": "'runs/detect/exp4/_detection_yolov5m_640i_300e.csv'"
     },
     "execution_count": 55,
     "metadata": {},
     "output_type": "execute_result"
    }
   ],
   "source": [
    "exp_path = sorted(os.listdir(project_path))[-1]\n",
    "\n",
    "img_path = os.path.join(project_path, exp_path)\n",
    "label_path = os.path.join(project_path, exp_path, 'labels')\n",
    "save_path = os.path.join(project_path, exp_path, '_detection_{}.csv'.format(model_name))\n",
    "\n",
    "generate_csv_from_label_list(label_path, img_path, save_path)"
   ],
   "metadata": {
    "collapsed": false,
    "pycharm": {
     "name": "#%%\n"
    }
   }
  },
  {
   "cell_type": "code",
   "execution_count": 56,
   "outputs": [
    {
     "data": {
      "text/plain": "{'precision': 0.9775280898876404,\n 'recall': 0.8529411764705882,\n 'f1': 0.9109947643979056}"
     },
     "execution_count": 56,
     "metadata": {},
     "output_type": "execute_result"
    }
   ],
   "source": [
    "get_metrics(save_path, save_val_file)"
   ],
   "metadata": {
    "collapsed": false,
    "pycharm": {
     "name": "#%%\n"
    }
   }
  }
 ],
 "metadata": {
  "kernelspec": {
   "display_name": "Python 3",
   "language": "python",
   "name": "python3"
  },
  "language_info": {
   "codemirror_mode": {
    "name": "ipython",
    "version": 2
   },
   "file_extension": ".py",
   "mimetype": "text/x-python",
   "name": "python",
   "nbconvert_exporter": "python",
   "pygments_lexer": "ipython2",
   "version": "2.7.6"
  }
 },
 "nbformat": 4,
 "nbformat_minor": 0
}